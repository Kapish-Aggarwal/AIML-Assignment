{
 "cells": [
  {
   "cell_type": "code",
   "execution_count": null,
   "id": "latin-train",
   "metadata": {},
   "outputs": [],
   "source": [
    "import numpy as np\n",
    "import pandas as pd\n",
    "import matplotlib.pyplot as plt\n",
    "import seaborn as sns\n",
    "from wordcloud import WordCloud "
   ]
  },
  {
   "cell_type": "code",
   "execution_count": null,
   "id": "eba622f8-2d87-4126-98d6-5eb0e7bf5844",
   "metadata": {},
   "outputs": [],
   "source": [
    "df = pd.read_csv(\"Titanic-Dataset.csv\")"
   ]
  },
  {
   "cell_type": "markdown",
   "id": "57313edb-7fe9-44fc-a973-0c30b41f7a4f",
   "metadata": {},
   "source": [
    "## Exploratory Data Analysis"
   ]
  },
  {
   "cell_type": "code",
   "execution_count": null,
   "id": "8c420087-387f-4de7-a935-2f9f3f6f7dc7",
   "metadata": {},
   "outputs": [],
   "source": [
    "df.head()"
   ]
  },
  {
   "cell_type": "markdown",
   "id": "86e23b52-a52d-490e-8cbb-68ce21a66dc9",
   "metadata": {},
   "source": [
    "### PassengerID"
   ]
  },
  {
   "cell_type": "code",
   "execution_count": null,
   "id": "f3585ac2-f75e-4b55-83d9-441db8b3ff98",
   "metadata": {},
   "outputs": [],
   "source": [
    "df[\"PassengerId\"].describe()"
   ]
  },
  {
   "cell_type": "markdown",
   "id": "83f57bb6-cc36-4c99-91f6-254462a0315f",
   "metadata": {},
   "source": [
    "### Survived"
   ]
  },
  {
   "cell_type": "code",
   "execution_count": null,
   "id": "d22295ff-39f5-4101-8ad0-441166bfab00",
   "metadata": {},
   "outputs": [],
   "source": [
    "sns.countplot(x=df['Survived'])"
   ]
  },
  {
   "cell_type": "markdown",
   "id": "e67e4e16-4b28-48ff-b78c-df074c9e554d",
   "metadata": {},
   "source": [
    "### PClass"
   ]
  },
  {
   "cell_type": "code",
   "execution_count": null,
   "id": "b01bb635-d742-44e2-955c-99cad7f9d3b6",
   "metadata": {},
   "outputs": [],
   "source": [
    "df[\"Pclass\"].unique()"
   ]
  },
  {
   "cell_type": "code",
   "execution_count": null,
   "id": "f675681c-e835-4bb0-b65c-f8348500412e",
   "metadata": {},
   "outputs": [],
   "source": [
    "class_counts = df['Pclass'].value_counts()\n",
    "\n",
    "# Create a pie chart\n",
    "plt.figure(figsize=(8, 8))\n",
    "plt.pie(class_counts, labels=class_counts.index, autopct='%1.1f%%', startangle=90)\n",
    "plt.axis('equal')\n",
    "plt.title('Passenger Class Distribution')\n",
    "plt.show()"
   ]
  },
  {
   "cell_type": "code",
   "execution_count": null,
   "id": "ad32e1fb-931c-4942-8de6-392dcfbb35da",
   "metadata": {},
   "outputs": [],
   "source": [
    "df.columns"
   ]
  },
  {
   "cell_type": "markdown",
   "id": "09e0f121-cc33-4d6b-8c2a-75635c6d8b8c",
   "metadata": {},
   "source": [
    "### Name"
   ]
  },
  {
   "cell_type": "code",
   "execution_count": null,
   "id": "18f5e997-3016-434a-92c1-a425c3621277",
   "metadata": {},
   "outputs": [],
   "source": [
    "'''Creating a wordcloud for name to help in the visualization'''"
   ]
  },
  {
   "cell_type": "code",
   "execution_count": null,
   "id": "7859546f-f147-4187-b412-075082b1f053",
   "metadata": {
    "scrolled": true
   },
   "outputs": [],
   "source": [
    "import re\n",
    "\n",
    "# Generate word clouds for each unique name\n",
    "unique_names = df['Name'].unique()\n",
    "for name in unique_names:\n",
    "    # Sanitize the name for use as a filename\n",
    "    sanitized_name = re.sub(r'[^\\w\\s]', '_', name)  # Replace invalid characters with underscores\n",
    "    sanitized_name = re.sub(r'\\s+', '_', sanitized_name)  # Replace spaces with underscores\n",
    "    # Filter DataFrame for the specific name\n",
    "    name_df = df[df['Name'] == name]\n",
    "    \n",
    "    # Concatenate all instances of the name into a single string\n",
    "    text = ' '.join(name_df['Name'])\n",
    "    \n",
    "    # Create a word cloud\n",
    "    wordcloud = WordCloud(width=400, height=400, \n",
    "                          background_color='white', \n",
    "                          stopwords=None, \n",
    "                          min_font_size=10).generate(text)\n",
    "    \n",
    "    # Display the word cloud\n",
    "    plt.figure(figsize=(8, 8), facecolor=None) \n",
    "    plt.imshow(wordcloud) \n",
    "    plt.axis(\"off\") \n",
    "    plt.tight_layout(pad=0) \n",
    "    \n",
    "    # Save the word cloud to a file with sanitized name\n",
    "    sanitized_name = sanitized_name.replace(\" \", \"_\")  # Replace spaces with underscores\n",
    "    plt.savefig(f\"{sanitized_name}_wordcloud.png\")\n",
    "    plt.show()\n"
   ]
  },
  {
   "cell_type": "code",
   "execution_count": null,
   "id": "352d2ab7-a9f5-418e-a440-3f70a0c93fe3",
   "metadata": {},
   "outputs": [],
   "source": [
    "df.columns"
   ]
  },
  {
   "cell_type": "markdown",
   "id": "cac1c4e2-5df6-4ddb-90c0-8f362b1dda16",
   "metadata": {},
   "source": [
    "### Gender"
   ]
  },
  {
   "cell_type": "code",
   "execution_count": null,
   "id": "571b1679-8e98-40a8-b650-d52d72704d83",
   "metadata": {},
   "outputs": [],
   "source": [
    "df[\"Sex\"].unique()"
   ]
  },
  {
   "cell_type": "code",
   "execution_count": null,
   "id": "f90302db-69a7-4548-aced-607ac90e639e",
   "metadata": {},
   "outputs": [],
   "source": [
    "''' Only 2 unique values ( of course) '''"
   ]
  },
  {
   "cell_type": "code",
   "execution_count": null,
   "id": "e512309c-4b23-4c00-8e13-a2080638a13b",
   "metadata": {},
   "outputs": [],
   "source": [
    "sns.countplot(x=df['Sex'], hue=df['Survived'])"
   ]
  },
  {
   "cell_type": "code",
   "execution_count": null,
   "id": "4eb1078f-c1f5-4ccb-a6ca-49ccfe1f6075",
   "metadata": {},
   "outputs": [],
   "source": [
    "df.columns"
   ]
  },
  {
   "cell_type": "markdown",
   "id": "8c23a573-1606-4d7a-a188-9bb438f738c4",
   "metadata": {},
   "source": [
    "### Age"
   ]
  },
  {
   "cell_type": "code",
   "execution_count": null,
   "id": "b1d98737-5d89-4b71-b78c-f5331e940f92",
   "metadata": {},
   "outputs": [],
   "source": [
    "df.isnull().sum()"
   ]
  },
  {
   "cell_type": "code",
   "execution_count": null,
   "id": "d5d0912a-8dc3-47be-b942-ab7af5080bcb",
   "metadata": {},
   "outputs": [],
   "source": [
    "# Plot a histogram\n",
    "plt.figure(figsize=(8, 6))\n",
    "plt.hist(df['Age'], bins=10, color='skyblue', edgecolor='black')\n",
    "plt.xlabel('Age')\n",
    "plt.ylabel('Frequency')\n",
    "plt.title('Histogram of Age')\n",
    "plt.show()"
   ]
  },
  {
   "cell_type": "code",
   "execution_count": null,
   "id": "2f7858a3-e21e-434f-9ec6-048a1eec232e",
   "metadata": {},
   "outputs": [],
   "source": [
    "df.columns"
   ]
  },
  {
   "cell_type": "markdown",
   "id": "203d37b1-6128-4942-b031-08fbcf5b3e8e",
   "metadata": {},
   "source": [
    "### SibSp"
   ]
  },
  {
   "cell_type": "code",
   "execution_count": null,
   "id": "933f57ff-a66f-459a-9613-9888a1f534e1",
   "metadata": {},
   "outputs": [],
   "source": [
    "freq_mapping = df['SibSp'].value_counts().sort_index()\n",
    "\n",
    "# Create a line plot\n",
    "plt.figure(figsize=(10, 6))\n",
    "plt.plot(freq_mapping.index, freq_mapping.values, marker='o')\n",
    "plt.xlabel('SibSp')\n",
    "plt.ylabel('Frequency')\n",
    "plt.title('Frequency Mapping of SibSp')\n",
    "plt.grid(True)\n",
    "plt.show()"
   ]
  },
  {
   "cell_type": "code",
   "execution_count": null,
   "id": "32114baa-43a8-471b-adc5-75b1b618d376",
   "metadata": {},
   "outputs": [],
   "source": [
    "df.columns"
   ]
  },
  {
   "cell_type": "markdown",
   "id": "8d591708-0341-475a-9791-e2d5b8b6cf44",
   "metadata": {},
   "source": [
    "### Parch"
   ]
  },
  {
   "cell_type": "code",
   "execution_count": null,
   "id": "e91ca3c7-49e0-4ef9-9589-09ce38a6a017",
   "metadata": {},
   "outputs": [],
   "source": [
    "freq_mapping = df['Parch'].value_counts().sort_index()\n",
    "\n",
    "# Create a line plot\n",
    "plt.figure(figsize=(10, 6))\n",
    "plt.plot(freq_mapping.index, freq_mapping.values, marker='o')\n",
    "plt.xlabel('Parch')\n",
    "plt.ylabel('Frequency')\n",
    "plt.title('Frequency Mapping of Parch')\n",
    "plt.grid(True)\n",
    "plt.show()"
   ]
  },
  {
   "cell_type": "code",
   "execution_count": null,
   "id": "7a3b3f17-b2b7-41cf-acd3-28a1f002c73b",
   "metadata": {},
   "outputs": [],
   "source": [
    "df.columns"
   ]
  },
  {
   "cell_type": "markdown",
   "id": "6d448d4c-1f1e-47f3-9a54-1ad0cefe5363",
   "metadata": {},
   "source": [
    "### Ticket"
   ]
  },
  {
   "cell_type": "code",
   "execution_count": null,
   "id": "1a048246-37e7-4a3d-87ed-35f06ff38f5e",
   "metadata": {},
   "outputs": [],
   "source": [
    "df[\"Ticket\"].describe()"
   ]
  },
  {
   "cell_type": "code",
   "execution_count": null,
   "id": "623188f3-d103-4e45-b4a2-dee445ef7b4d",
   "metadata": {},
   "outputs": [],
   "source": [
    "df[\"Ticket\"].unique()"
   ]
  },
  {
   "cell_type": "markdown",
   "id": "9d9474e7-170d-4bd8-baad-0bd7a130395d",
   "metadata": {},
   "source": [
    "### Fare"
   ]
  },
  {
   "cell_type": "code",
   "execution_count": null,
   "id": "0ddec1a9-f9d4-4fee-a098-13fe8a64c24d",
   "metadata": {},
   "outputs": [],
   "source": [
    "df[\"Fare\"].value_counts()"
   ]
  },
  {
   "cell_type": "code",
   "execution_count": null,
   "id": "d13d5e18-7d30-4fa8-abae-2aa5fc856e90",
   "metadata": {},
   "outputs": [],
   "source": [
    "df[\"Fare\"].describe()"
   ]
  },
  {
   "cell_type": "code",
   "execution_count": null,
   "id": "2ee8e4dd-7ad2-459a-8350-893fe0a3c2a4",
   "metadata": {},
   "outputs": [],
   "source": [
    "df.columns"
   ]
  },
  {
   "cell_type": "code",
   "execution_count": null,
   "id": "437851d1-f513-43e2-b223-dd5c036afaba",
   "metadata": {},
   "outputs": [],
   "source": [
    "# Function to check if a value can be converted to an integer\n",
    "def is_convertible_to_int(value):\n",
    "    try:\n",
    "        int(value)\n",
    "        return True\n",
    "    except ValueError:\n",
    "        return False\n",
    "\n",
    "# Apply the function to the column and create a new column\n",
    "df['ConvertibleToInt'] = df['Fare'].apply(is_convertible_to_int)\n",
    "\n",
    "# Create a countplot\n",
    "plt.figure(figsize=(8, 6))\n",
    "sns.countplot(x='ConvertibleToInt', data=df)\n",
    "plt.xlabel('Convertible to Int')\n",
    "plt.ylabel('Count')\n",
    "plt.title('Count of Values Convertible to Int vs Not Convertible')\n",
    "plt.show()\n",
    "\n",
    "df.drop(\"ConvertibleToInt\" , axis = 1 , inplace = True)"
   ]
  },
  {
   "cell_type": "markdown",
   "id": "f93bb147-90aa-40b8-af6b-7e197fb0de20",
   "metadata": {},
   "source": [
    "### Cabin"
   ]
  },
  {
   "cell_type": "code",
   "execution_count": null,
   "id": "940dc58c-4fa2-4b17-a9bc-eeee73d69368",
   "metadata": {},
   "outputs": [],
   "source": [
    "# Create a bar plot\n",
    "plt.figure(figsize=(8, 6))\n",
    "sns.countplot(x='Cabin', data=df)\n",
    "plt.xlabel('Cabin')\n",
    "plt.ylabel('Frequency')\n",
    "plt.title('Frequency of String Values')\n",
    "plt.xticks(rotation=45)\n",
    "plt.show()"
   ]
  },
  {
   "cell_type": "code",
   "execution_count": null,
   "id": "75f4b8d9-b347-4709-abf9-0dd567ff277c",
   "metadata": {},
   "outputs": [],
   "source": [
    "'''As you can see, its a mess xd'''"
   ]
  },
  {
   "cell_type": "markdown",
   "id": "532804cf-efa5-4567-a266-b8c03789332c",
   "metadata": {},
   "source": [
    "### Embarked"
   ]
  },
  {
   "cell_type": "code",
   "execution_count": null,
   "id": "41cc1d25-a923-4f13-a3a5-02ea268d431c",
   "metadata": {},
   "outputs": [],
   "source": [
    "df[\"Embarked\"].unique()"
   ]
  },
  {
   "cell_type": "code",
   "execution_count": null,
   "id": "3adabb5d-44cc-4650-973e-991d155ab038",
   "metadata": {},
   "outputs": [],
   "source": [
    "class_counts = df['Embarked'].value_counts()\n",
    "\n",
    "plt.figure(figsize=(8, 8))\n",
    "plt.pie(class_counts, labels=class_counts.index, autopct='%1.1f%%', startangle=90)\n",
    "plt.axis('equal')\n",
    "plt.title('Passenger Class Distribution')\n",
    "plt.show()"
   ]
  },
  {
   "cell_type": "markdown",
   "id": "c04db6a1-47a8-419f-af6e-922867a22788",
   "metadata": {},
   "source": [
    "## Feature Engineering"
   ]
  },
  {
   "cell_type": "code",
   "execution_count": null,
   "id": "84ba89f8-c50b-4fa0-b37b-93558d3d45e5",
   "metadata": {},
   "outputs": [],
   "source": [
    "#rename id, drop name\n",
    "df[\"Id\"] = df[\"PassengerId\"]\n",
    "df.drop(\"PassengerId\" , axis = 1 , inplace = True)\n",
    "df.drop(\"Name\" , axis =1  , inplace = True)"
   ]
  },
  {
   "cell_type": "code",
   "execution_count": null,
   "id": "a271cb03-84fb-4752-956f-3da28d1229c4",
   "metadata": {},
   "outputs": [],
   "source": [
    "# rearranging the columns \n",
    "df = df[['Id', 'Pclass', 'Sex', 'Age', 'SibSp', 'Parch', 'Fare', 'Embarked' , \"Survived\"]]"
   ]
  },
  {
   "cell_type": "markdown",
   "id": "9d5c63aa-b09a-472c-bde0-60908ef2237f",
   "metadata": {},
   "source": [
    "### LabelEncoding on -> Embarked , Sex"
   ]
  },
  {
   "cell_type": "code",
   "execution_count": null,
   "id": "64420798-4046-409f-81c0-acdfd6c3b144",
   "metadata": {},
   "outputs": [],
   "source": [
    "from sklearn.preprocessing import LabelEncoder\n",
    "\n",
    "df['Embarked'] = df['Embarked'].fillna(\"0\")\n",
    "encoder = LabelEncoder()\n",
    "df['Embarked'] = encoder.fit_transform(df['Embarked'])\n",
    "df[\"Sex\"] = encoder.fit_transform(df[\"Sex\"])"
   ]
  },
  {
   "cell_type": "markdown",
   "id": "74f47c9b-3475-4755-b4bd-0585adcb22d5",
   "metadata": {},
   "source": [
    "### Dealing with NULL values"
   ]
  },
  {
   "cell_type": "code",
   "execution_count": null,
   "id": "b725f4fc-095e-4f2c-8c3e-4fb92f6c8ea7",
   "metadata": {},
   "outputs": [],
   "source": [
    "df.isnull().sum()"
   ]
  },
  {
   "cell_type": "code",
   "execution_count": null,
   "id": "52458d31-ada2-4186-8e0e-b0729624d3f3",
   "metadata": {},
   "outputs": [],
   "source": [
    "# Replacing the null values of age with the mean \n",
    "mean_age = df['Age'].mean()\n",
    "df['Age'] = df['Age'].fillna(mean_age)"
   ]
  },
  {
   "cell_type": "markdown",
   "id": "782d4c8c-6e93-41fa-95a9-9df695396448",
   "metadata": {},
   "source": [
    "## Feature Selection"
   ]
  },
  {
   "cell_type": "code",
   "execution_count": null,
   "id": "7fbf3e89-1506-42da-9037-05c228da1486",
   "metadata": {},
   "outputs": [],
   "source": [
    "df.columns"
   ]
  },
  {
   "cell_type": "code",
   "execution_count": null,
   "id": "b6d3b37d-c4cd-4a5d-89ef-57dd1b0caf77",
   "metadata": {},
   "outputs": [],
   "source": [
    "from scipy.stats import pearsonr\n",
    "\n",
    "correlations = {}\n",
    "for column in df.columns[:-1]:  # Exclude the last column (Survived)\n",
    "    corr, _ = pearsonr(df[column], df['Survived'])\n",
    "    correlations[column] = corr\n",
    "\n",
    "print(\"Pearson correlation coefficients: \\n\")\n",
    "\n",
    "for column, corr in correlations.items():\n",
    "    print(f\"{column}: {corr}\")"
   ]
  },
  {
   "cell_type": "code",
   "execution_count": null,
   "id": "78abe674-f51b-466f-88be-7646b1dc6117",
   "metadata": {},
   "outputs": [],
   "source": [
    "''' HEATMAP OF PEARSON CORRELATION'''\n",
    "\n",
    "corr_matrix = df.corr()\n",
    "\n",
    "# Create a heatmap\n",
    "plt.figure(figsize=(10, 8))\n",
    "sns.heatmap(corr_matrix, annot=True, cmap='coolwarm', vmin=-1, vmax=1)\n",
    "plt.title('Pearson Correlation Heatmap')\n",
    "plt.show()"
   ]
  },
  {
   "cell_type": "code",
   "execution_count": null,
   "id": "b9e38560-9a96-4e92-bafd-9cff6ca8c387",
   "metadata": {},
   "outputs": [],
   "source": [
    "df.columns"
   ]
  },
  {
   "cell_type": "code",
   "execution_count": null,
   "id": "985b1a5b-79df-4d45-9fcc-865721d1f338",
   "metadata": {},
   "outputs": [],
   "source": [
    "'''Chi-square test to check the degree of independence with respect to our Survived column'''\n",
    "from scipy.stats import chi2_contingency\n",
    "\n",
    "print(f\"Chi-square statistic for: \\n\")\n",
    "columns = ['Pclass', 'Sex', 'Age', 'SibSp', 'Parch', 'Fare', 'Embarked']\n",
    "results = []\n",
    "\n",
    "for col in columns:\n",
    "    contingency_table = pd.crosstab(df[col], df['Survived'])\n",
    "    chi2, p_value, _, _ = chi2_contingency(contingency_table)\n",
    "    results.append({'Column': col, 'Chi-square': chi2, 'P-value': p_value})\n",
    "    print(f\"{col}: {chi2} \")\n",
    "    print(f\"P-value for {col}: {p_value} \\n\")\n",
    "\n",
    "# Create a DataFrame from the results\n",
    "results_df = pd.DataFrame(results)\n",
    "\n",
    "# Statistical representation using a table\n",
    "print(results_df)\n",
    "\n",
    "# Graphical representation using a bar plot\n",
    "plt.figure(figsize=(12, 6))\n",
    "sns.barplot(x='Column', y='Chi-square', data=results_df, palette='viridis')\n",
    "plt.title('Chi-square statistic for each column')\n",
    "plt.xlabel('Column')\n",
    "plt.ylabel('Chi-square')\n",
    "plt.xticks(rotation=45)\n",
    "plt.show()"
   ]
  },
  {
   "cell_type": "code",
   "execution_count": null,
   "id": "d316913e-efbc-429d-94a1-fcbe3e2ede66",
   "metadata": {},
   "outputs": [],
   "source": [
    "df.columns"
   ]
  },
  {
   "cell_type": "code",
   "execution_count": null,
   "id": "e11df986-02e8-4e04-91c4-cf6e848250cb",
   "metadata": {},
   "outputs": [],
   "source": [
    "df.drop(\"Id\" , axis = 1 , inplace = True)"
   ]
  },
  {
   "cell_type": "markdown",
   "id": "7222174e-8fb1-442d-9f80-e0588909110a",
   "metadata": {},
   "source": [
    "## Model Building"
   ]
  },
  {
   "cell_type": "code",
   "execution_count": null,
   "id": "c811a80f-c709-4c39-bb37-a33f05c95645",
   "metadata": {},
   "outputs": [],
   "source": [
    "X = df.drop(\"Survived\" , axis = 1)\n",
    "Y = df[[\"Survived\"]]"
   ]
  },
  {
   "cell_type": "code",
   "execution_count": null,
   "id": "d14f456a-fc3a-43ec-a8fe-9bff67b979d3",
   "metadata": {},
   "outputs": [],
   "source": [
    "# Train test split ratio -> 15%\n",
    "# random statae 42\n",
    "\n",
    "from sklearn.model_selection import train_test_split\n",
    "X_train, X_test, y_train, y_test = train_test_split(X, Y, test_size=0.15, random_state=42)"
   ]
  },
  {
   "cell_type": "code",
   "execution_count": null,
   "id": "8a86a436-7a64-4a5d-836d-aa893800bd10",
   "metadata": {},
   "outputs": [],
   "source": [
    "print(X_train.shape)\n",
    "print(X_test.shape)\n",
    "print(y_train.shape)\n",
    "print(y_test.shape)"
   ]
  },
  {
   "cell_type": "code",
   "execution_count": null,
   "id": "dcf8864c-5a7e-4145-a991-f2861fdc1e61",
   "metadata": {},
   "outputs": [],
   "source": [
    "X_train.head()"
   ]
  },
  {
   "cell_type": "code",
   "execution_count": null,
   "id": "7d6aa32b-408e-40eb-b00e-0cbb288effec",
   "metadata": {},
   "outputs": [],
   "source": [
    "X_test.head()"
   ]
  },
  {
   "cell_type": "code",
   "execution_count": null,
   "id": "02cd817a-a994-45e7-adf0-aae780cfeced",
   "metadata": {},
   "outputs": [],
   "source": [
    "y_train.head()"
   ]
  },
  {
   "cell_type": "code",
   "execution_count": null,
   "id": "899656cc-51c6-401b-831e-0350eef60463",
   "metadata": {},
   "outputs": [],
   "source": [
    "y_test.head()"
   ]
  },
  {
   "cell_type": "code",
   "execution_count": null,
   "id": "novel-reform",
   "metadata": {},
   "outputs": [],
   "source": [
    "X_train = X_train.values\n",
    "y_train = y_train.values\n",
    "X_test = X_test.values\n",
    "y_test = y_test.values"
   ]
  },
  {
   "cell_type": "code",
   "execution_count": null,
   "id": "inside-addition",
   "metadata": {},
   "outputs": [],
   "source": [
    "X_train = X_train.T\n",
    "y_train = y_train.reshape(1, X_train.shape[1])\n",
    "\n",
    "X_test = X_test.T\n",
    "y_test = y_test.reshape(1, X_test.shape[1])"
   ]
  },
  {
   "cell_type": "code",
   "execution_count": null,
   "id": "accessible-force",
   "metadata": {},
   "outputs": [],
   "source": [
    "print(\"Shape of X_train : \", X_train.shape)\n",
    "print(\"Shape of Y_train : \", y_train.shape)\n",
    "print(\"Shape of X_test : \", X_test.shape)\n",
    "print(\"Shape of Y_test : \", y_test.shape)"
   ]
  },
  {
   "cell_type": "markdown",
   "id": "rotary-reputation",
   "metadata": {},
   "source": [
    "# Model"
   ]
  },
  {
   "cell_type": "code",
   "execution_count": null,
   "id": "removed-nomination",
   "metadata": {},
   "outputs": [],
   "source": [
    "def sigmoid(x):\n",
    "    return 1/(1 + np.exp(-x))"
   ]
  },
  {
   "cell_type": "code",
   "execution_count": null,
   "id": "aquatic-berry",
   "metadata": {},
   "outputs": [],
   "source": [
    "def model(X, Y, learning_rate, iterations):\n",
    "    \n",
    "    m = X_train.shape[1]\n",
    "    n = X_train.shape[0]\n",
    "    \n",
    "    W = np.zeros((n,1))\n",
    "    B = 0\n",
    "    \n",
    "    cost_list = []\n",
    "    \n",
    "    for i in range(iterations):\n",
    "        \n",
    "        Z = np.dot(W.T, X) + B\n",
    "        A = sigmoid(Z)\n",
    "        \n",
    "        # cost function\n",
    "        cost = -(1/m)*np.sum( Y*np.log(A) + (1-Y)*np.log(1-A))\n",
    "        \n",
    "        # Gradient Descent\n",
    "        dW = (1/m)*np.dot(A-Y, X.T)\n",
    "        dB = (1/m)*np.sum(A - Y)\n",
    "        \n",
    "        W = W - learning_rate*dW.T\n",
    "        B = B - learning_rate*dB\n",
    "        \n",
    "        # Keeping track of our cost function value\n",
    "        cost_list.append(cost)\n",
    "        \n",
    "        if(i%(iterations/10) == 0):\n",
    "            print(\"cost after \", i, \"iteration is : \", cost)\n",
    "        \n",
    "    return W, B, cost_list"
   ]
  },
  {
   "cell_type": "code",
   "execution_count": null,
   "id": "detailed-alert",
   "metadata": {},
   "outputs": [],
   "source": [
    "iterations = 100000\n",
    "learning_rate = 0.0090\n",
    "W, B, cost_list = model(X_train, y_train, learning_rate = learning_rate, iterations = iterations)"
   ]
  },
  {
   "cell_type": "markdown",
   "id": "medieval-aircraft",
   "metadata": {},
   "source": [
    "# Testing Model Accuracy"
   ]
  },
  {
   "cell_type": "code",
   "execution_count": null,
   "id": "continental-realtor",
   "metadata": {},
   "outputs": [],
   "source": [
    "def accuracy(X, Y, W, B):\n",
    "    \n",
    "    Z = np.dot(W.T, X) + B\n",
    "    A = sigmoid(Z)\n",
    "    \n",
    "    A = A > 0.5\n",
    "    \n",
    "    A = np.array(A, dtype = 'int64')\n",
    "    \n",
    "    acc = (1 - np.sum(np.absolute(A - Y))/Y.shape[1])*100\n",
    "    \n",
    "    print(\"Accuracy of the model is : \", round(acc, 2), \"%\")"
   ]
  },
  {
   "cell_type": "code",
   "execution_count": null,
   "id": "hungry-deviation",
   "metadata": {},
   "outputs": [],
   "source": [
    "accuracy(X_test, y_test, W, B)"
   ]
  }
 ],
 "metadata": {
  "kernelspec": {
   "display_name": "Python 3 (ipykernel)",
   "language": "python",
   "name": "python3"
  },
  "language_info": {
   "codemirror_mode": {
    "name": "ipython",
    "version": 3
   },
   "file_extension": ".py",
   "mimetype": "text/x-python",
   "name": "python",
   "nbconvert_exporter": "python",
   "pygments_lexer": "ipython3",
   "version": "3.11.5"
  }
 },
 "nbformat": 4,
 "nbformat_minor": 5
}
